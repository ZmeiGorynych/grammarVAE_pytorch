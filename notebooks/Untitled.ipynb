{
 "cells": [
  {
   "cell_type": "code",
   "execution_count": 3,
   "metadata": {
    "collapsed": true
   },
   "outputs": [],
   "source": [
    "import nltk\n",
    "import numpy as np\n",
    "import six\n",
    "import pdb"
   ]
  },
  {
   "cell_type": "code",
   "execution_count": 4,
   "metadata": {
    "collapsed": true
   },
   "outputs": [],
   "source": [
    "gram = \"\"\"\n",
    "S -> S '+' T\n",
    "S -> S '*' T\n",
    "S -> S '/' T\n",
    "S -> T\n",
    "T -> '(' S ')'\n",
    "T -> 'sin(' S ')'\n",
    "T -> 'exp(' S ')'\n",
    "T -> 'x'\n",
    "T -> '1'\n",
    "T -> '2'\n",
    "T -> '3'\n",
    "Nothing -> None\"\"\""
   ]
  },
  {
   "cell_type": "code",
   "execution_count": 7,
   "metadata": {
    "collapsed": true
   },
   "outputs": [],
   "source": [
    "GCFG = nltk.CFG.fromstring(gram)\n",
    "start_index = GCFG.productions()[0].lhs()"
   ]
  },
  {
   "cell_type": "code",
   "execution_count": null,
   "metadata": {
    "collapsed": false
   },
   "outputs": [],
   "source": [
    "?nltk.CFG"
   ]
  },
  {
   "cell_type": "code",
   "execution_count": 8,
   "metadata": {
    "collapsed": false
   },
   "outputs": [
    {
     "data": {
      "text/plain": [
       "S"
      ]
     },
     "execution_count": 8,
     "metadata": {},
     "output_type": "execute_result"
    }
   ],
   "source": [
    "start_index"
   ]
  },
  {
   "cell_type": "code",
   "execution_count": 12,
   "metadata": {
    "collapsed": true
   },
   "outputs": [],
   "source": [
    "all_lhs = [a.lhs().symbol() for a in GCFG.productions()]"
   ]
  },
  {
   "cell_type": "code",
   "execution_count": 14,
   "metadata": {
    "collapsed": false
   },
   "outputs": [
    {
     "data": {
      "text/plain": [
       "['S', 'S', 'S', 'S', 'T', 'T', 'T', 'T', 'T', 'T', 'T', 'Nothing']"
      ]
     },
     "execution_count": 14,
     "metadata": {},
     "output_type": "execute_result"
    }
   ],
   "source": [
    "all_lhs"
   ]
  },
  {
   "cell_type": "code",
   "execution_count": 15,
   "metadata": {
    "collapsed": true
   },
   "outputs": [],
   "source": [
    "lhs_list = []\n",
    "for a in all_lhs:\n",
    "    if a not in lhs_list:\n",
    "        lhs_list.append(a)"
   ]
  },
  {
   "cell_type": "code",
   "execution_count": 16,
   "metadata": {
    "collapsed": false
   },
   "outputs": [
    {
     "data": {
      "text/plain": [
       "['S', 'T', 'Nothing']"
      ]
     },
     "execution_count": 16,
     "metadata": {},
     "output_type": "execute_result"
    }
   ],
   "source": [
    "lhs_list"
   ]
  },
  {
   "cell_type": "code",
   "execution_count": 19,
   "metadata": {
    "collapsed": false
   },
   "outputs": [
    {
     "data": {
      "text/plain": [
       "[S -> S '+' T,\n",
       " S -> S '*' T,\n",
       " S -> S '/' T,\n",
       " S -> T,\n",
       " T -> '(' S ')',\n",
       " T -> 'sin(' S ')',\n",
       " T -> 'exp(' S ')',\n",
       " T -> 'x',\n",
       " T -> '1',\n",
       " T -> '2',\n",
       " T -> '3',\n",
       " Nothing -> None]"
      ]
     },
     "execution_count": 19,
     "metadata": {},
     "output_type": "execute_result"
    }
   ],
   "source": [
    "GCFG.productions()"
   ]
  },
  {
   "cell_type": "code",
   "execution_count": 5,
   "metadata": {
    "collapsed": true
   },
   "outputs": [],
   "source": [
    "rhs_map = [None]*D\n",
    "count = 0\n",
    "for a in GCFG.productions():\n",
    "    rhs_map[count] = []\n",
    "    for b in a.rhs():\n",
    "        if not isinstance(b,six.string_types):\n",
    "            s = b.symbol()\n",
    "            rhs_map[count].extend(list(np.where(np.array(lhs_list) == s)[0]))\n",
    "    count = count + 1\n",
    "\n",
    "masks = np.zeros((len(lhs_list),D))\n",
    "count = 0\n",
    "#all_lhs.append(0)\n",
    "for sym in lhs_list:\n",
    "    is_in = np.array([a == sym for a in all_lhs], dtype=int).reshape(1,-1)\n",
    "    #pdb.set_trace()\n",
    "    masks[count] = is_in\n",
    "    count = count + 1\n",
    "\n",
    "index_array = []\n",
    "for i in range(masks.shape[1]):\n",
    "    index_array.append(np.where(masks[:,i]==1)[0][0])\n",
    "ind_of_ind = np.array(index_array)"
   ]
  },
  {
   "cell_type": "code",
   "execution_count": 6,
   "metadata": {
    "collapsed": false
   },
   "outputs": [
    {
     "data": {
      "text/plain": [
       "[0, 0, 0, 0, 1, 1, 1, 1, 1, 1, 1, 2]"
      ]
     },
     "execution_count": 6,
     "metadata": {},
     "output_type": "execute_result"
    }
   ],
   "source": [
    "index_array"
   ]
  },
  {
   "cell_type": "code",
   "execution_count": null,
   "metadata": {
    "collapsed": true
   },
   "outputs": [],
   "source": [
    ""
   ]
  }
 ],
 "metadata": {
  "kernelspec": {
   "display_name": "deep-learning",
   "language": "python",
   "name": "deep-learning"
  },
  "language_info": {
   "codemirror_mode": {
    "name": "ipython",
    "version": 3
   },
   "file_extension": ".py",
   "mimetype": "text/x-python",
   "name": "python",
   "nbconvert_exporter": "python",
   "pygments_lexer": "ipython3",
   "version": "3.6.0"
  }
 },
 "nbformat": 4,
 "nbformat_minor": 0
}
